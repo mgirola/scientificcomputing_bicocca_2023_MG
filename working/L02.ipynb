{
 "cells": [
  {
   "cell_type": "markdown",
   "metadata": {},
   "source": [
    "## Q3: Are you faster than numpy?\n",
    "\n",
    "Numpy of course has a standard deviation function, `np.std()`, but here we'll write our own that works on a 1-d array (vector).  The standard\n",
    "deviation is a measure of the \"width\" of the distribution of numbers\n",
    "in the vector.\n",
    "\n",
    "Given an array, $a$, and an average $\\bar{a}$, the standard deviation\n",
    "is:\n",
    "$$\n",
    "\\sigma = \\left [ \\frac{1}{N} \\sum_{i=1}^N (a_i - \\bar{a})^2 \\right ]^{1/2}\n",
    "$$\n",
    "\n",
    "Write a function to calculate the standard deviation for an input array, `a`:\n",
    "\n",
    "  * First compute the average of the elements in `a` to define $\\bar{a}$\n",
    "  * Next compute the sum over the squares of $a - \\bar{a}$\n",
    "  * Then divide the sum by the number of elements in the array\n",
    "  * Finally take the square root (you can use `np.sqrt()`)\n",
    "  \n",
    "Test your function on a random array, and compare to the built-in `np.std()`. Check the runtime as well."
   ]
  },
  {
   "cell_type": "code",
   "execution_count": 13,
   "metadata": {},
   "outputs": [
    {
     "name": "stdout",
     "output_type": "stream",
     "text": [
      "0.9991289345905285\n",
      "time elapsed with custom written function: 0.2362077236175537 s\n",
      "0.9988160910617235\n",
      "time elapsed with numpy: 0.0017621517181396484 s\n",
      "gain: 134.04505479637396\n"
     ]
    }
   ],
   "source": [
    "import numpy as np\n",
    "import random\n",
    "import time\n",
    "\n",
    "def generate_norm_data(n):\n",
    "    return np.random.randn(n)\n",
    "\n",
    "data = generate_norm_data(int(1e6)) # 1 mega sample\n",
    "\n",
    "\n",
    "def compute_std_manual(data):\n",
    "    sum = 0\n",
    "    N = len(data)\n",
    "    for el in data:\n",
    "        sum += el\n",
    "    mean = sum / N\n",
    "\n",
    "    for el in data:\n",
    "        sum += (el - mean) ** 2\n",
    "    \n",
    "    std = np.sqrt(sum / N)\n",
    "\n",
    "    return std\n",
    "\n",
    "def compute_std_numpy(data):\n",
    "    return np.std(data)\n",
    "\n",
    "t0 = time.time()\n",
    "print(compute_std_manual(data))\n",
    "t1 = time.time()\n",
    "t_manual = t1 - t0\n",
    "print(\"time elapsed with custom written function: {} s\".format(t_manual))\n",
    "\n",
    "t0 = time.time()\n",
    "print(compute_std_numpy(data))\n",
    "t1 = time.time()\n",
    "t_numpy = t1 - t0\n",
    "print(\"time elapsed with numpy: {} s\".format(t_numpy))\n",
    "\n",
    "print(f\"gain: {t_manual / t_numpy}\")\n"
   ]
  },
  {
   "cell_type": "markdown",
   "metadata": {},
   "source": [
    "## Q2: Histograms\n",
    "\n",
    "Here we will read in columns of numbers from a file and create a histogram, using NumPy routines.  Make sure you have the data file\n",
    "\"`sample.txt`\" in the same directory as this notebook. You download it from  https://raw.githubusercontent.com/sbu-python-summer/python-tutorial/master/day-3/sample.txt (and use python to download a file!)\n",
    "\n",
    "  * Use `np.loadtxt()` to read this file in.  \n",
    "\n",
    "  * Next, use `np.histogram()` to create a histogram array.  The output returns both the count and an array of edges.\n",
    "  \n",
    "  * Finally, loop over the bins and print out the bin center (averaging the left and right edges of the bin) and the count for that bin."
   ]
  },
  {
   "cell_type": "code",
   "execution_count": 40,
   "metadata": {},
   "outputs": [
    {
     "name": "stdout",
     "output_type": "stream",
     "text": [
      "-26.2 ****\n",
      "-17.6 ***\n",
      "-8.99 **********************\n",
      "-0.35 ***********************************\n",
      "+8.28 ********************************\n",
      "+16.9 **********************\n",
      "+25.5 ***********\n",
      "+34.2 *********\n",
      "+42.8 **********\n",
      "+51.4 ********\n",
      "+60.1 *********\n",
      "+68.7 *********\n",
      "+77.4 ********\n",
      "+86.0 *********\n",
      "+94.6 *********\n"
     ]
    }
   ],
   "source": [
    "# Download the file sample.txt from the given URL\n",
    "import requests\n",
    "r = requests.get(\"https://raw.githubusercontent.com/sbu-python-summer/python-tutorial/master/day-3/sample.txt\")\n",
    "with open(\"sample.txt\", \"wb\") as f:\n",
    "    f.write(r.content)\n",
    "\n",
    "\n",
    "# load the txt\n",
    "data = np.loadtxt(\"sample.txt\")\n",
    "\n",
    "# create a histo udsinng np.histogram\n",
    "hist, bins = np.histogram(data, bins=15)\n",
    "\n",
    "\n",
    "#print bin centers\n",
    "for n, lo, hi in zip(hist, bins[:-1], bins[1:]):\n",
    "    # as an additional exercise, I print a number of * proportional to the number of elements in the bin\n",
    "    print(f\"{lo + (hi - lo) / 2 :+.4f}\"[:5].ljust(5, '0'), f\"{\"*\" * n}\")\n",
    "    \n",
    "\n"
   ]
  }
 ],
 "metadata": {
  "kernelspec": {
   "display_name": "Python 3",
   "language": "python",
   "name": "python3"
  },
  "language_info": {
   "codemirror_mode": {
    "name": "ipython",
    "version": 3
   },
   "file_extension": ".py",
   "mimetype": "text/x-python",
   "name": "python",
   "nbconvert_exporter": "python",
   "pygments_lexer": "ipython3",
   "version": "3.12.1"
  }
 },
 "nbformat": 4,
 "nbformat_minor": 2
}
