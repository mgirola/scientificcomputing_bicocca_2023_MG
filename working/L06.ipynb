{
 "cells": [
  {
   "cell_type": "markdown",
   "metadata": {},
   "source": [
    "## Q2: Egocentric\n",
    "\n",
    "Write a github action that lets you commit only if README.md contains your name."
   ]
  },
  {
   "cell_type": "code",
   "execution_count": 15,
   "metadata": {},
   "outputs": [],
   "source": [
    "#Here I'm taking inspiration from the manual: https://docs.github.com/en/actions/writing-workflows/workflow-syntax-for-github-actions#jobs\n",
    "def create_yaml_instruction_file():\n",
    "    with open('../.github/workflows/check_readme_name.yml', 'w') as f:\n",
    "        f.write('''\n",
    "name: Check README at commit\n",
    "run-name: ${{ github.actor }} running action is Massimo Girola in the README?\n",
    "on: [push]\n",
    "jobs:\n",
    "  Check-README:\n",
    "    runs-on: ubuntu-latest\n",
    "    outputs:\n",
    "      output1: ${{ steps.check-readme-step.outputs.output1 }}\n",
    "    steps:\n",
    "      - run: echo \"🎉 The job was automatically triggered by a ${{ github.event_name }} event.\"\n",
    "      - run: echo \"🐧 This job is now running on a ${{ runner.os }} server hosted by GitHub!\"\n",
    "      - run: echo \"🔎 The name of your branch is ${{ github.ref }} and your repository is ${{ github.repository }}.\"\n",
    "      - name: Check out repository code\n",
    "        uses: actions/checkout@v4\n",
    "      - run: echo \"💡 The ${{ github.repository }} repository has been cloned to the runner.\"\n",
    "      - run: echo \"🖥️ The workflow is now ready to test your code on the runner.\"\n",
    "      - id: check-readme-step  \n",
    "        run: |\n",
    "          if grep \"Massimo Girola\" README.md; then\n",
    "            echo \"output1=Massimo Girola is in the README\" >> \"$GITHUB_OUTPUT\"\n",
    "          else\n",
    "            echo \"output1=Massimo Girola is not in the README\" >> \"$GITHUB_OUTPUT\"\n",
    "          fi\n",
    "      - run: echo \"🍏 This job's status is ${{ job.status }}.\" \n",
    "      \n",
    "  Authorize-the-Commit:\n",
    "    runs-on: ubuntu-latest\n",
    "    needs: Check-README\n",
    "    steps:\n",
    "      - env: \n",
    "            OUTPUT1: ${{ needs.Check-README.outputs.output1 }}\n",
    "        run: |\n",
    "            echo \"The output of the previous job was $OUTPUT1\"\n",
    "            if ! grep -q \"Massimo Girola\" README.md; then\n",
    "                echo \"Error: README.md does not contain 'Massimo Girola'.\"\n",
    "                git reset --hard HEAD~1 #since I cannot run the action before the commit or the push, I need to reset the last commit if the condition is not met. The exercise asks to let commit only if the name is in the README but this is not possible using actions that can happen only after the push.\n",
    "                git push --force\n",
    "                exit 1\n",
    "            else\n",
    "                echo \"'Massimo Girola' found in README.md. Proceeding with the commit.\"\n",
    "            fi\n",
    "    ''')\n",
    "\n",
    "create_yaml_instruction_file()"
   ]
  }
 ],
 "metadata": {
  "kernelspec": {
   "display_name": "Python 3",
   "language": "python",
   "name": "python3"
  },
  "language_info": {
   "codemirror_mode": {
    "name": "ipython",
    "version": 3
   },
   "file_extension": ".py",
   "mimetype": "text/x-python",
   "name": "python",
   "nbconvert_exporter": "python",
   "pygments_lexer": "ipython3",
   "version": "3.12.1"
  }
 },
 "nbformat": 4,
 "nbformat_minor": 2
}
