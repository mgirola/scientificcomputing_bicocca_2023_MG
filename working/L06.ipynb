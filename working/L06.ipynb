{
 "cells": [
  {
   "cell_type": "markdown",
   "metadata": {},
   "source": [
    "## Q2: Egocentric\n",
    "\n",
    "Write a github action that lets you commit only if README.md contains your name."
   ]
  },
  {
   "cell_type": "code",
   "execution_count": 19,
   "metadata": {},
   "outputs": [],
   "source": [
    "#Here I'm taking inspiration from the manual: https://docs.github.com/en/actions/writing-workflows/workflow-syntax-for-github-actions#jobs\n",
    "def create_yaml_instruction_file():\n",
    "    with open('../.github/workflows/check_readme_name.yml', 'w') as f:\n",
    "        f.write('''\n",
    "name: Check README at commit\n",
    "run-name: ${{ github.actor }} running action is Massimo Girola in the README?\n",
    "on: [push]\n",
    "jobs:\n",
    "  Check-README:\n",
    "    runs-on: ubuntu-latest\n",
    "    outputs:\n",
    "      output1: ${{ steps.check-readme-step.outputs.output1 }}\n",
    "    steps:\n",
    "      - run: echo \"🎉 The job was automatically triggered by a ${{ github.event_name }} event.\"\n",
    "      - run: echo \"🐧 This job is now running on a ${{ runner.os }} server hosted by GitHub!\"\n",
    "      - run: echo \"🔎 The name of your branch is ${{ github.ref }} and your repository is ${{ github.repository }}.\"\n",
    "      - name: Check out repository code\n",
    "        uses: actions/checkout@v4\n",
    "      - run: echo \"💡 The ${{ github.repository }} repository has been cloned to the runner.\"\n",
    "      - run: echo \"🖥️ The workflow is now ready to test your code on the runner.\"\n",
    "      - id: check-readme-step  \n",
    "        run: |\n",
    "          if grep \"Massimo Girola\" README.md; then\n",
    "            echo \"output1=Massimo Girola is in the README\" >> \"$GITHUB_OUTPUT\"\n",
    "          else\n",
    "            echo \"output1=Massimo Girola is not in the README\" >> \"$GITHUB_OUTPUT\"\n",
    "          fi\n",
    "      - run: echo \"🍏 This job's status is ${{ job.status }}.\" \n",
    "      \n",
    "  Authorize-the-Commit:\n",
    "    runs-on: ubuntu-latest\n",
    "    needs: Check-README\n",
    "    steps:\n",
    "      - name: Check out repository code\n",
    "        uses: actions/checkout@v4\n",
    "        with:\n",
    "            fetch-depth: 0 #Apparently I have to clone everything to be able to reset and push\n",
    "      - name: Set up Git account #Since this runs remotely I need to set up the git account\n",
    "        run: |\n",
    "            git config --global user.name \"Massimo Girola\"\n",
    "            git config --global user.email \"m.girola2@campus.unimib.it\" \n",
    "      - env: \n",
    "            OUTPUT1: ${{ needs.Check-README.outputs.output1 }}\n",
    "        run: |\n",
    "            echo \"The output of the previous job was $OUTPUT1\"\n",
    "            if ! grep -q \"Massimo Girola\" README.md; then\n",
    "                echo \"Error: README.md does not contain 'Massimo Girola'.\"\n",
    "                git reset --hard HEAD~1 #since I cannot run the action before the commit or the push, I need to reset the last commit if the condition is not met. The exercise asks to let commit only if the name is in the README but this is not possible using actions that can happen only after the push.\n",
    "                git push --force\n",
    "                exit 1\n",
    "            else\n",
    "                echo \"'Massimo Girola' found in README.md. Proceeding with the commit.\"\n",
    "            fi\n",
    "    ''')\n",
    "\n",
    "create_yaml_instruction_file()\n"
   ]
  },
  {
   "cell_type": "markdown",
   "metadata": {},
   "source": [
    "Ok, now it works. This file is pushed but since README.md is not present and therefore does not contain my name it reverts the push and the latest updates are not pushed.\n",
    "\n",
    "Now I add the README.md"
   ]
  },
  {
   "cell_type": "code",
   "execution_count": 21,
   "metadata": {},
   "outputs": [],
   "source": [
    "with open('../README.md', 'a') as f:\n",
    "    f.write(\"Author of these excercises:\\n Massimo Girola\\n\")"
   ]
  },
  {
   "cell_type": "markdown",
   "metadata": {},
   "source": [
    "Now the commit and the push are not reverted and everything works.\n",
    "\n",
    "I can push everything left behind from when the README.md did not existed."
   ]
  },
  {
   "cell_type": "markdown",
   "metadata": {},
   "source": [
    "## Q4: You're wrong\n",
    "\n",
    "Find a bug/typo in the material of this course, fix it, and send me a pull request."
   ]
  },
  {
   "cell_type": "markdown",
   "metadata": {},
   "source": [
    "### In L04 Q7 you have written:"
   ]
  },
  {
   "cell_type": "markdown",
   "metadata": {},
   "source": [
    "A convolution is defined as:  \n",
    "\n",
    "  \\begin{equation}                                                                           \n",
    "    (f \\star g)(t) \\equiv \\int_{-\\infty}^{\\infty} f(\\tau) g(t - \\tau) d\\tau                   \n",
    "  \\end{equation}                                                                             \n",
    "\n",
    "  It is easy to compute this with FFTs, via the _convolution theorem_,                                                                        \n",
    "  \\begin{equation}                                         \n",
    "    \\mathcal{F}\\{f \\star g\\} = \\mathcal{F}\\{f\\} \\, \\mathcal{F}\\{g\\}                                          \n",
    "  \\end{equation}                                         \n",
    "  That is: the Fourier transform of the convolution of $f$ and $g$ is simply\n",
    "  the product of the individual transforms of $f$ and $g$.  This allows us\n",
    "  to compute the convolution via multiplication in Fourier space and then take\n",
    "  the inverse transform, $\\mathcal{F}^{-1}\\{\\}$, to recover the convolution in real space:\n",
    "  \n",
    "  \\begin{equation}\n",
    "  f \\star g = \\mathcal{F}^{-1}\\{ \\mathcal{F}\\{f\\} \\, \\mathcal{F}\\{g\\}\\}\n",
    "  \\end{equation}\n",
    "  \n",
    "A common use of a convolution is to smooth noisy data, for example by convolving noisy data with a Gaussian.  We'll do that here."
   ]
  },
  {
   "cell_type": "markdown",
   "metadata": {},
   "source": [
    "### While the correct syntax is:"
   ]
  },
  {
   "cell_type": "markdown",
   "metadata": {},
   "source": [
    "A convolution is defined as:  \n",
    "\n",
    "\\begin{equation}  \n",
    "  (f \\star g)(t) \\equiv \\int_{-\\infty}^{\\infty} f(\\tau) g(t - \\tau) d\\tau \\tag{1}  \n",
    "\\end{equation}  \n",
    "\n",
    "It is easy to compute this with FFTs, via the _convolution theorem_,  \n",
    "\n",
    "\\begin{equation}  \n",
    "  \\mathcal{F}\\{f \\star g\\} = \\mathcal{F}\\{f\\} \\, \\mathcal{F}\\{g\\} \\tag{2}  \n",
    "\\end{equation}  \n",
    "\n",
    "That is: the Fourier transform of the convolution of $f$ and $g$ is simply the product of the individual transforms of $f$ and $g$. This allows us to compute the convolution via multiplication in Fourier space and then take the inverse transform, $\\mathcal{F}^{-1}\\{\\}$, to recover the convolution in real space:\n",
    "\n",
    "\\begin{equation}  \n",
    "  f \\star g = \\mathcal{F}^{-1}\\{ \\mathcal{F}\\{f\\} \\, \\mathcal{F}\\{g\\}\\} \\tag{3}  \n",
    "\\end{equation}  \n",
    "\n",
    "A common use of a convolution is to smooth noisy data, for example by convolving noisy data with a Gaussian. We'll do that here.\n"
   ]
  },
  {
   "cell_type": "markdown",
   "metadata": {},
   "source": [
    "### Otherwise all the equations are numbered with lable (1) and equation (2) is not properly formatted"
   ]
  },
  {
   "cell_type": "markdown",
   "metadata": {},
   "source": [
    "I edit the file /Users/lustrair/SynologyDrive/PhD/Corsi/ScientificComputingWithPython/scientificcomputing_bicocca_2023_MG-1/lectures/L04_scipy.ipynb\n",
    "\n",
    "Now I add, commit and push to my fork\n",
    "\n",
    "Before submitting the excercises I will open the pull request (I hope not to forget to do so)"
   ]
  }
 ],
 "metadata": {
  "kernelspec": {
   "display_name": "Python 3",
   "language": "python",
   "name": "python3"
  },
  "language_info": {
   "codemirror_mode": {
    "name": "ipython",
    "version": 3
   },
   "file_extension": ".py",
   "mimetype": "text/x-python",
   "name": "python",
   "nbconvert_exporter": "python",
   "pygments_lexer": "ipython3",
   "version": "3.12.1"
  }
 },
 "nbformat": 4,
 "nbformat_minor": 2
}
